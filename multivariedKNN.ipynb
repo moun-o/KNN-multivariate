{
 "cells": [
  {
   "cell_type": "code",
   "execution_count": 2,
   "metadata": {},
   "outputs": [],
   "source": [
    "import pandas as pd\n",
    "import numpy as np\n",
    "from scipy.spatial import distance\n",
    "pd.options.mode.chained_assignment=None\n",
    "\n",
    "#PART 0 :-----------> parameters\n",
    "\n",
    "#choose k, here for example i chosed the first 5 nearest neighbours\n",
    "k=5\n",
    "\n",
    "#the column to be dropped from the dataset\n",
    "\n",
    "drop_cols=['room_type','city','zipcode','state','longitude','latitude','host_response_rate','host_acceptance_rate','host_response_rate','host_listings_count']\n",
    "\n",
    "\n",
    "\n",
    "\n"
   ]
  },
  {
   "cell_type": "code",
   "execution_count": 3,
   "metadata": {},
   "outputs": [
    {
     "name": "stdout",
     "output_type": "stream",
     "text": [
      "<class 'pandas.core.frame.DataFrame'>\n",
      "RangeIndex: 8000 entries, 0 to 7999\n",
      "Data columns (total 19 columns):\n",
      "host_response_rate      5000 non-null object\n",
      "host_acceptance_rate    0 non-null float64\n",
      "host_listings_count     7999 non-null float64\n",
      "latitude                8000 non-null float64\n",
      "longitude               8000 non-null float64\n",
      "city                    7997 non-null object\n",
      "zipcode                 7930 non-null object\n",
      "state                   7977 non-null object\n",
      "accommodates            8000 non-null int64\n",
      "room_type               8000 non-null object\n",
      "bedrooms                7976 non-null float64\n",
      "bathrooms               7942 non-null float64\n",
      "beds                    7986 non-null float64\n",
      "price                   8000 non-null object\n",
      "cleaning_fee            6250 non-null object\n",
      "security_deposit        6320 non-null object\n",
      "minimum_nights          8000 non-null int64\n",
      "maximum_nights          8000 non-null int64\n",
      "number_of_reviews       8000 non-null int64\n",
      "dtypes: float64(7), int64(4), object(8)\n",
      "memory usage: 1.2+ MB\n",
      "None\n"
     ]
    }
   ],
   "source": [
    "#PART 1 :-----------> data process\n",
    "\n",
    "#read data\n",
    "airbnb_list=pd.read_csv('paris_airbnb.csv')\n",
    "print(airbnb_list.info())\n",
    "\n",
    "#delete the non float and non interesting colomuns\n",
    "airbnb_list=airbnb_list.drop(drop_cols,axis=1)\n"
   ]
  },
  {
   "cell_type": "code",
   "execution_count": 4,
   "metadata": {},
   "outputs": [
    {
     "name": "stdout",
     "output_type": "stream",
     "text": [
      "<class 'pandas.core.frame.DataFrame'>\n",
      "RangeIndex: 8000 entries, 0 to 7999\n",
      "Data columns (total 10 columns):\n",
      "accommodates         8000 non-null int64\n",
      "bedrooms             7976 non-null float64\n",
      "bathrooms            7942 non-null float64\n",
      "beds                 7986 non-null float64\n",
      "price                8000 non-null object\n",
      "cleaning_fee         6250 non-null object\n",
      "security_deposit     6320 non-null object\n",
      "minimum_nights       8000 non-null int64\n",
      "maximum_nights       8000 non-null int64\n",
      "number_of_reviews    8000 non-null int64\n",
      "dtypes: float64(3), int64(4), object(3)\n",
      "memory usage: 625.1+ KB\n",
      "None\n",
      "accommodates            0\n",
      "bedrooms               24\n",
      "bathrooms              58\n",
      "beds                   14\n",
      "price                   0\n",
      "cleaning_fee         1750\n",
      "security_deposit     1680\n",
      "minimum_nights          0\n",
      "maximum_nights          0\n",
      "number_of_reviews       0\n",
      "dtype: int64\n"
     ]
    }
   ],
   "source": [
    "print(airbnb_list.info())\n",
    "#check how many NULL values \n",
    "print(airbnb_list.isnull().sum())"
   ]
  },
  {
   "cell_type": "code",
   "execution_count": 5,
   "metadata": {},
   "outputs": [],
   "source": [
    "#clean the column price, remove , and $\n",
    "airbnb_list['price']=airbnb_list['price'].astype(str).str.replace('$','')\n",
    "airbnb_list['price']=airbnb_list['price'].astype(str).str.replace(',','')\n",
    "\n",
    "#convert price column to float\n",
    "airbnb_list['price']=airbnb_list['price'].astype('float')\n",
    "\n"
   ]
  },
  {
   "cell_type": "code",
   "execution_count": 6,
   "metadata": {},
   "outputs": [
    {
     "name": "stdout",
     "output_type": "stream",
     "text": [
      "accommodates         0\n",
      "bedrooms             0\n",
      "bathrooms            0\n",
      "beds                 0\n",
      "price                0\n",
      "minimum_nights       0\n",
      "maximum_nights       0\n",
      "number_of_reviews    0\n",
      "dtype: int64\n"
     ]
    }
   ],
   "source": [
    "#delete rows of bedrooms bathrooms and beds where are only little null values and 2 cols cleaning_fee and deposit_fee\n",
    "airbnb_list=airbnb_list.drop(['cleaning_fee','security_deposit'],axis=1)\n",
    "airbnb_list=airbnb_list.dropna(axis=0)\n",
    "#check how many NULL values \n",
    "print(airbnb_list.isnull().sum())"
   ]
  },
  {
   "cell_type": "code",
   "execution_count": 7,
   "metadata": {},
   "outputs": [
    {
     "name": "stdout",
     "output_type": "stream",
     "text": [
      "<class 'pandas.core.frame.DataFrame'>\n",
      "Int64Index: 5876 entries, 6998 to 5764\n",
      "Data columns (total 8 columns):\n",
      "accommodates         5876 non-null float64\n",
      "bedrooms             5876 non-null float64\n",
      "bathrooms            5876 non-null float64\n",
      "beds                 5876 non-null float64\n",
      "price                5876 non-null float64\n",
      "minimum_nights       5876 non-null float64\n",
      "maximum_nights       5876 non-null float64\n",
      "number_of_reviews    5876 non-null float64\n",
      "dtypes: float64(8)\n",
      "memory usage: 413.2 KB\n"
     ]
    },
    {
     "name": "stderr",
     "output_type": "stream",
     "text": [
      "C:\\ProgramData\\Anaconda3\\lib\\site-packages\\ipykernel_launcher.py:2: FutureWarning: \n",
      "Passing list-likes to .loc or [] with any missing label will raise\n",
      "KeyError in the future, you can use .reindex() as an alternative.\n",
      "\n",
      "See the documentation here:\n",
      "https://pandas.pydata.org/pandas-docs/stable/indexing.html#deprecate-loc-reindex-listlike\n",
      "  \n"
     ]
    }
   ],
   "source": [
    "#random the dataset\n",
    "airbnb_list=airbnb_list.loc[np.random.permutation(len(airbnb_list))]\n",
    "\n",
    "#noramalize data based on normal standard distribution\n",
    "normalized_data=(airbnb_list-airbnb_list.mean())/(airbnb_list.std())\n",
    "normalized_data=normalized_data.dropna(axis=0)\n",
    "normalized_data['price']=airbnb_list['price']\n",
    "\n",
    "#separate into train data and test data 75% 25%\n",
    "sup=int(0.75*len(normalized_data))\n",
    "train_data=normalized_data.iloc[0:sup]\n",
    "test_data=normalized_data.iloc[sup:]\n",
    "train_data.info()\n"
   ]
  },
  {
   "cell_type": "code",
   "execution_count": 8,
   "metadata": {},
   "outputs": [
    {
     "name": "stdout",
     "output_type": "stream",
     "text": [
      "<class 'pandas.core.frame.DataFrame'>\n",
      "Int64Index: 5876 entries, 6998 to 5764\n",
      "Data columns (total 8 columns):\n",
      "accommodates         5876 non-null float64\n",
      "bedrooms             5876 non-null float64\n",
      "bathrooms            5876 non-null float64\n",
      "beds                 5876 non-null float64\n",
      "price                5876 non-null float64\n",
      "minimum_nights       5876 non-null float64\n",
      "maximum_nights       5876 non-null float64\n",
      "number_of_reviews    5876 non-null float64\n",
      "dtypes: float64(8)\n",
      "memory usage: 413.2 KB\n"
     ]
    }
   ],
   "source": [
    "train_data.info()"
   ]
  },
  {
   "cell_type": "code",
   "execution_count": 9,
   "metadata": {},
   "outputs": [
    {
     "data": {
      "text/plain": [
       "KNeighborsRegressor(algorithm='brute', leaf_size=30, metric='minkowski',\n",
       "                    metric_params=None, n_jobs=None, n_neighbors=5, p=2,\n",
       "                    weights='uniform')"
      ]
     },
     "execution_count": 9,
     "metadata": {},
     "output_type": "execute_result"
    }
   ],
   "source": [
    "from sklearn.neighbors import KNeighborsRegressor\n",
    "#init your knn model\n",
    "knn=KNeighborsRegressor(n_neighbors=k,algorithm='brute')\n",
    "\n",
    "#train features init\n",
    "features = train_data.columns.tolist()\n",
    "features.remove('price')\n",
    "train_features=train_data[features]\n",
    "\n",
    "#train target init\n",
    "train_target = train_data ['price']\n",
    "\n",
    "#luanch knn learning\n",
    "knn.fit(train_features,train_target)\n"
   ]
  },
  {
   "cell_type": "code",
   "execution_count": 10,
   "metadata": {},
   "outputs": [],
   "source": [
    "predictions= knn.predict(test_data[features])\n"
   ]
  },
  {
   "cell_type": "code",
   "execution_count": 11,
   "metadata": {},
   "outputs": [
    {
     "name": "stdout",
     "output_type": "stream",
     "text": [
      "[ 78.6  73.   91.6 ... 138.8 115.6  81.2]\n"
     ]
    }
   ],
   "source": [
    "print(predictions)"
   ]
  },
  {
   "cell_type": "code",
   "execution_count": 12,
   "metadata": {},
   "outputs": [
    {
     "name": "stdout",
     "output_type": "stream",
     "text": [
      "error mse=  6706.612291985707 rmse=  81.89390875996644\n"
     ]
    }
   ],
   "source": [
    "#PART 5 :-----------> Evaluate\n",
    "from sklearn.metrics import mean_squared_error\n",
    "\n",
    "errorMSE=mean_squared_error(test_data['price'],predictions)\n",
    "\n",
    "print('error mse= ', errorMSE, 'rmse= ',errorMSE**0.5)\n"
   ]
  }
 ],
 "metadata": {
  "kernelspec": {
   "display_name": "Python 3",
   "language": "python",
   "name": "python3"
  }
 },
 "nbformat": 4,
 "nbformat_minor": 2
}
